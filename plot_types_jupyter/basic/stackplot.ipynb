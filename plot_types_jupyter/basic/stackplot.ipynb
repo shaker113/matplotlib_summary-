{
  "cells": [
    {
      "cell_type": "code",
      "execution_count": null,
      "metadata": {
        "collapsed": false
      },
      "outputs": [],
      "source": [
        "%matplotlib inline"
      ]
    },
    {
      "cell_type": "markdown",
      "metadata": {},
      "source": [
        "\n",
        "# stackplot(x, y)\n",
        "See `~matplotlib.axes.Axes.stackplot`\n"
      ]
    },
    {
      "cell_type": "code",
      "execution_count": 1,
      "metadata": {
        "collapsed": false
      },
      "outputs": [
        {
          "data": {
            "image/png": "[encoded data removed]",
            "text/plain": [
              "<Figure size 200x200 with 1 Axes>"
            ]
          },
          "metadata": {},
          "output_type": "display_data"
        }
      ],
      "source": [
        "import matplotlib.pyplot as plt\n",
        "import numpy as np\n",
        "\n",
        "plt.style.use('_mpl-gallery')\n",
        "\n",
        "# make data\n",
        "x = np.arange(0, 10, 2)\n",
        "ay = [1, 1.25, 2, 2.75, 3]\n",
        "by = [1, 1, 1, 1, 1]\n",
        "cy = [2, 1, 2, 1, 2]\n",
        "y = np.vstack([ay, by, cy])\n",
        "\n",
        "# plot\n",
        "fig, ax = plt.subplots()\n",
        "\n",
        "ax.stackplot(x, y)\n",
        "\n",
        "ax.set(xlim=(0, 8), xticks=np.arange(1, 8),\n",
        "       ylim=(0, 8), yticks=np.arange(1, 8))\n",
        "\n",
        "plt.show()"
      ]
    }
  ],
  "metadata": {
    "kernelspec": {
      "display_name": "Python 3",
      "language": "python",
      "name": "python3"
    },
    "language_info": {
      "codemirror_mode": {
        "name": "ipython",
        "version": 3
      },
      "file_extension": ".py",
      "mimetype": "text/x-python",
      "name": "python",
      "nbconvert_exporter": "python",
      "pygments_lexer": "ipython3",
      "version": "3.10.10"
    },
    "vscode": {
      "interpreter": {
        "hash": "84fd2673a0f847bf80637898000f9b4175f2ffd476d5f31b41a838c2acdb5b76"
      }
    }
  },
  "nbformat": 4,
  "nbformat_minor": 0
}
