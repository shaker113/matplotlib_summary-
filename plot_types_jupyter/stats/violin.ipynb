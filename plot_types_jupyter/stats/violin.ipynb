{
  "cells": [
    {
      "cell_type": "code",
      "execution_count": 1,
      "metadata": {
        "collapsed": false
      },
      "outputs": [],
      "source": [
        "%matplotlib inline"
      ]
    },
    {
      "cell_type": "markdown",
      "metadata": {},
      "source": [
        "\n",
        "# violinplot(D)\n",
        "\n",
        "See `~matplotlib.axes.Axes.violinplot`.\n"
      ]
    },
    {
      "cell_type": "code",
      "execution_count": 2,
      "metadata": {
        "collapsed": false
      },
      "outputs": [
        {
          "data": {
            "image/png": "[encoded data removed]",
            "text/plain": [
              "<Figure size 200x200 with 1 Axes>"
            ]
          },
          "metadata": {},
          "output_type": "display_data"
        }
      ],
      "source": [
        "import matplotlib.pyplot as plt\n",
        "import numpy as np\n",
        "\n",
        "plt.style.use('_mpl-gallery')\n",
        "\n",
        "# make data:\n",
        "np.random.seed(10)\n",
        "D = np.random.normal((3, 5, 4), (0.75, 1.00, 0.75), (200, 3))\n",
        "\n",
        "# plot:\n",
        "fig, ax = plt.subplots()\n",
        "\n",
        "vp = ax.violinplot(D, [2, 4, 6], widths=2,\n",
        "                   showmeans=False, showmedians=False, showextrema=False)\n",
        "# styling:\n",
        "for body in vp['bodies']:\n",
        "    body.set_alpha(0.9)\n",
        "ax.set(xlim=(0, 8), xticks=np.arange(1, 8),\n",
        "       ylim=(0, 8), yticks=np.arange(1, 8))\n",
        "\n",
        "plt.show()"
      ]
    }
  ],
  "metadata": {
    "kernelspec": {
      "display_name": "Python 3",
      "language": "python",
      "name": "python3"
    },
    "language_info": {
      "codemirror_mode": {
        "name": "ipython",
        "version": 3
      },
      "file_extension": ".py",
      "mimetype": "text/x-python",
      "name": "python",
      "nbconvert_exporter": "python",
      "pygments_lexer": "ipython3",
      "version": "3.10.10"
    },
    "vscode": {
      "interpreter": {
        "hash": "84fd2673a0f847bf80637898000f9b4175f2ffd476d5f31b41a838c2acdb5b76"
      }
    }
  },
  "nbformat": 4,
  "nbformat_minor": 0
}
