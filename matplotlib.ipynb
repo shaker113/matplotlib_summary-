{
 "cells": [
  {
   "attachments": {},
   "cell_type": "markdown",
   "metadata": {},
   "source": [
    "# this file for studying matplotlib library and ploting with ploting with pandas"
   ]
  },
  {
   "attachments": {},
   "cell_type": "markdown",
   "metadata": {},
   "source": [
    "## importing the needed libraries for data sceince\n",
    "in matplotlib pyplot is the module we will be using to create our plots."
   ]
  },
  {
   "cell_type": "code",
   "execution_count": 147,
   "metadata": {},
   "outputs": [],
   "source": [
    "import pandas as pd\n",
    "import numpy as np\n",
    "import matplotlib.pyplot as plt "
   ]
  },
  {
   "attachments": {},
   "cell_type": "markdown",
   "metadata": {},
   "source": [
    "## Plot Formatting using pyplot\n",
    "* The legend argument specifies whether or not to show the legend.\n",
    "* You can also change the labels of the axis by setting the xlabel and ylabel\n",
    "* The suptitle() function can be used to set a plot title\n",
    "* We can also change the colors used in the plot by setting the color attribute. It accepts a list of color hexes.\n"
   ]
  },
  {
   "cell_type": "code",
   "execution_count": 112,
   "metadata": {},
   "outputs": [
    {
     "data": {
      "text/plain": [
       "Text(0.5, 0.98, 'sup title')"
      ]
     },
     "execution_count": 112,
     "metadata": {},
     "output_type": "execute_result"
    },
    {
     "data": {
      "image/png": "[encoded data removed]",
      "text/plain": [
       "<Figure size 200x200 with 1 Axes>"
      ]
     },
     "metadata": {},
     "output_type": "display_data"
    }
   ],
   "source": [
    "plt.plot(range(10))\n",
    "plt.xlabel('Days ',fontdict={'family':'serif','color':'r','size':20})\n",
    "plt.ylabel('Number')\n",
    "plt.title(\"the title\")\n",
    "plt.suptitle(\"sup title\")\n"
   ]
  },
  {
   "attachments": {},
   "cell_type": "markdown",
   "metadata": {},
   "source": [
    "### colors\n"
   ]
  },
  {
   "attachments": {},
   "cell_type": "markdown",
   "metadata": {},
   "source": [
    "* b : blue.\n",
    "* g : green.\n",
    "* r : red.\n",
    "* c : cyan.\n",
    "* m : magenta.\n",
    "* y : yellow.\n",
    "* k : black.\n",
    "* w : white."
   ]
  },
  {
   "attachments": {},
   "cell_type": "markdown",
   "metadata": {},
   "source": [
    "### marker description\n"
   ]
  },
  {
   "attachments": {},
   "cell_type": "markdown",
   "metadata": {},
   "source": [
    "* \".\"\t point\n",
    "* \",\"\t pixel\n",
    "* \"o\"\t circle\n",
    "* \"v\"\t triangle_down\n",
    "* \"^\"\t triangle_up\n",
    "* \"<\"\t triangle_left\n",
    "* \">\"\t triangle_right\n",
    "* \"1\"\t tri_down\n",
    "* \"2\"\t tri_up\n",
    "* \"3\"\t tri_left\n",
    "* \"4\"\t tri_right\n",
    "* \"8\"\t octagon\n",
    "* \"s\"\t square\n",
    "* \"p\"\t pentagon\n",
    "* \"P\"\t plus (filled)\n",
    "* \"*\"\t star\n",
    "* \"h\"\t hexagon1\n",
    "* \"H\"\t hexagon2\n",
    "* \"+\"\t plus\n",
    "* \"x\"\t x\n",
    "* \"X\"\t x (filled)\n",
    "* \"D\"\t diamond\n",
    "* \"d\"\t thin_diamond\n",
    "* \"|\"\t vline\n",
    "* \"_\"\t hline"
   ]
  },
  {
   "attachments": {},
   "cell_type": "markdown",
   "metadata": {},
   "source": [
    "### line description\n"
   ]
  },
  {
   "attachments": {},
   "cell_type": "markdown",
   "metadata": {},
   "source": [
    "* '-'\t      solid line style\n",
    "* '--'\t      dashed line style\n",
    "* '-.'\t      dash-dot line style\n",
    "* ':'\t      dotted line style\n",
    "* '.'\t      point marker\n",
    "* ','\t      pixel marker\n",
    "* 'o'\t      circle marker\n",
    "* 'v'\t      triangle_down marker\n",
    "* '^'\t      triangle_up marker\n",
    "* '<'\t      triangle_left marker\n",
    "* '>'\t      triangle_right marker\n",
    "* '1'\t      tri_down marker\n",
    "* '2'\t      tri_up marker\n",
    "* '3'\t      tri_left marker\n",
    "* '4'\t      tri_right marker\n",
    "* 's'\t      square marker\n",
    "* 'p'\t      pentagon marker\n",
    "* '*'\t      star marker\n",
    "* 'h'\t      hexagon1 marker\n",
    "* 'H'\t      hexagon2 marker\n",
    "* '+'\t      plus marker\n",
    "* 'x'\t      x marker\n",
    "* 'D'\t      diamond marker\n",
    "* 'd'\t      thin_diamond marker\n",
    "* '|'\t      vline marker\n",
    "* '_'\t      hline marker"
   ]
  },
  {
   "attachments": {},
   "cell_type": "markdown",
   "metadata": {},
   "source": [
    "## multi plot"
   ]
  },
  {
   "cell_type": "code",
   "execution_count": 102,
   "metadata": {},
   "outputs": [
    {
     "ename": "TypeError",
     "evalue": "'tuple' object is not callable",
     "output_type": "error",
     "traceback": [
      "\u001b[1;31m---------------------------------------------------------------------------\u001b[0m",
      "\u001b[1;31mTypeError\u001b[0m                                 Traceback (most recent call last)",
      "Cell \u001b[1;32mIn[102], line 6\u001b[0m\n\u001b[0;32m      4\u001b[0m y4 \u001b[39m=\u001b[39m [\u001b[39m20\u001b[39m,\u001b[39m28\u001b[39m,\u001b[39m47\u001b[39m,\u001b[39m84\u001b[39m,\u001b[39m145\u001b[39m,\u001b[39m236\u001b[39m,\u001b[39m363\u001b[39m,\u001b[39m532\u001b[39m,\u001b[39m749\u001b[39m,\u001b[39m1020\u001b[39m]\n\u001b[0;32m      5\u001b[0m plt\u001b[39m.\u001b[39mplot(x, y2,\u001b[39m'\u001b[39m\u001b[39mr-\u001b[39m\u001b[39m'\u001b[39m, x, y3, \u001b[39m'\u001b[39m\u001b[39mb--\u001b[39m\u001b[39m'\u001b[39m, x, y4, \u001b[39m'\u001b[39m\u001b[39mg-.\u001b[39m\u001b[39m'\u001b[39m,marker\u001b[39m=\u001b[39m\u001b[39m'\u001b[39m\u001b[39mo\u001b[39m\u001b[39m'\u001b[39m,ms\u001b[39m=\u001b[39m\u001b[39m10\u001b[39m,mec\u001b[39m=\u001b[39m\u001b[39m'\u001b[39m\u001b[39mm\u001b[39m\u001b[39m'\u001b[39m,mfc\u001b[39m=\u001b[39m\u001b[39m'\u001b[39m\u001b[39my\u001b[39m\u001b[39m'\u001b[39m)\n\u001b[1;32m----> 6\u001b[0m plt\u001b[39m.\u001b[39;49mxlim((\u001b[39m3\u001b[39;49m,\u001b[39m6\u001b[39;49m))\n\u001b[0;32m      7\u001b[0m plt\u001b[39m.\u001b[39mylim((\u001b[39m0\u001b[39m,\u001b[39m150\u001b[39m))\n",
      "\u001b[1;31mTypeError\u001b[0m: 'tuple' object is not callable"
     ]
    },
    {
     "data": {
      "image/png": "[encoded data removed]",
      "text/plain": [
       "<Figure size 200x200 with 1 Axes>"
      ]
     },
     "metadata": {},
     "output_type": "display_data"
    }
   ],
   "source": [
    "x = [1,2,3,4,5,6,7,8,9,10]\n",
    "y2 = [1,8,27,64,125,216,343,512,729,1000]\n",
    "y3 = [10,18,37,74,135,226,353,522,739,1010]\n",
    "y4 = [20,28,47,84,145,236,363,532,749,1020]\n",
    "plt.plot(x, y2,'r-', x, y3, 'b--', x, y4, 'g-.',marker='o',ms=10,mec='m',mfc='y')\n",
    "plt.xlim((3,6))\n",
    "plt.ylim((0,150))"
   ]
  },
  {
   "attachments": {},
   "cell_type": "markdown",
   "metadata": {},
   "source": [
    "## sub plot"
   ]
  },
  {
   "cell_type": "code",
   "execution_count": 146,
   "metadata": {},
   "outputs": [
    {
     "data": {
      "image/png": "[encoded data removed]",
      "text/plain": [
       "<Figure size 200x200 with 3 Axes>"
      ]
     },
     "metadata": {},
     "output_type": "display_data"
    }
   ],
   "source": [
    "#plot 1:\n",
    "x = np.array([0, 1, 2, 3])\n",
    "y = np.array([3, 8, 1, 10])\n",
    "plt.subplot(2, 2, 1)    # number of rows = 1 , number of columns = 2 , this plot order\n",
    "plt.plot(x,y)# plot the data\n",
    "\n",
    "#plot 2:\n",
    "x = np.array([0, 1, 2, 3])\n",
    "y = np.array([10, 20, 30, 40])\n",
    "plt.subplot(2, 2, 2)\n",
    "plt.plot(x,y)\n",
    "\n",
    "#plot 3:\n",
    "x = np.array([0, 1, 2, 3])\n",
    "y = np.array([35, 9, 51, 45])\n",
    "plt.subplot(2, 2, 4)\n",
    "plt.plot(x,y)\n",
    "\n",
    "\n",
    "plt.show()"
   ]
  }
 ],
 "metadata": {
  "kernelspec": {
   "display_name": "Python 3",
   "language": "python",
   "name": "python3"
  },
  "language_info": {
   "codemirror_mode": {
    "name": "ipython",
    "version": 3
   },
   "file_extension": ".py",
   "mimetype": "text/x-python",
   "name": "python",
   "nbconvert_exporter": "python",
   "pygments_lexer": "ipython3",
   "version": "3.10.10"
  },
  "orig_nbformat": 4,
  "vscode": {
   "interpreter": {
    "hash": "84fd2673a0f847bf80637898000f9b4175f2ffd476d5f31b41a838c2acdb5b76"
   }
  }
 },
 "nbformat": 4,
 "nbformat_minor": 2
}
